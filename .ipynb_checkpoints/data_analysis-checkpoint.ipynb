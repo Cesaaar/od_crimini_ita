{
 "cells": [
  {
   "cell_type": "markdown",
   "metadata": {},
   "source": [
    "# Criminalità Italia - Data Analysis\n",
    "\n",
    "## KPI\n",
    "\n",
    "1. Distribuzione omicidi volontari per Regione Italiana\n",
    "2. Distribuzione omicidi volontari per Città Italiana\n",
    "3. Distribuzione omicidi volontari per Paese zona Euro\n",
    "4. Distribuzione omicidi volontari per Città zona Euro\n",
    "\n",
    "## Open Data\n",
    "1. Istat\n",
    "    - http://dati.istat.it/Index.aspx\n",
    "2. Eurostat\n",
    "    - http://ec.europa.eu/eurostat/data/database\n",
    "    - http://ec.europa.eu/eurostat/web/json-and-unicode-web-services/getting-started/query-builder\n",
    "    - http://ec.europa.eu/eurostat/ramon/nomenclatures/index.cfm?TargetUrl=LST_CLS_DLD&StrNom=NUTS_2013L&StrLanguageCode=EN&StrLayoutCode=HIERARCHIC#\n",
    "   \n",
    "## Librerie\n",
    "1. Jsonstat\n",
    "    - (ISTAT) http://jsonstatpy.readthedocs.io/en/latest/notebooks/istat_house_price_index.html\n",
    "    - (EUROSTAT) https://github.com/26fe/jsonstat.py/blob/master/docs/notebooks/eurostat.rst\n"
   ]
  },
  {
   "cell_type": "code",
   "execution_count": 66,
   "metadata": {
    "collapsed": true
   },
   "outputs": [],
   "source": [
    "# Import librerie per analisi dati (Pandas) e dati Istat\n",
    "import os\n",
    "import pandas as pd\n",
    "import numpy as np\n",
    "from IPython.core.display import HTML\n",
    "import istat\n",
    "import jsonstat"
   ]
  },
  {
   "cell_type": "code",
   "execution_count": 67,
   "metadata": {
    "collapsed": false
   },
   "outputs": [
    {
     "name": "stdout",
     "output_type": "stream",
     "text": [
      "cache_dir is '/home/acesarini/opendata/tmp/istat_cached'\n"
     ]
    }
   ],
   "source": [
    "# cache dir per velocizzare analisi in locale\n",
    "cache_dir = os.path.abspath(os.path.join(\"..\", \"tmp\", \"istat_cached\"))\n",
    "istat.cache_dir(cache_dir)\n",
    "istat.lang(0)  # lingua italiano\n",
    "print(\"cache_dir is '{}'\".format(istat.cache_dir()))"
   ]
  },
  {
   "cell_type": "code",
   "execution_count": 68,
   "metadata": {
    "collapsed": false
   },
   "outputs": [],
   "source": [
    "# Lista delle aree di analisi disponibili\n",
    "# istat.areas()"
   ]
  },
  {
   "cell_type": "code",
   "execution_count": 69,
   "metadata": {
    "collapsed": false
   },
   "outputs": [],
   "source": [
    "# AREA Giustizia e Sicurezza\n",
    "istat_area_lab = istat.area('JUS')\n",
    "\n",
    "# Lista dei datasets dell'area\n",
    "# istat_area_lab.datasets()"
   ]
  },
  {
   "cell_type": "code",
   "execution_count": 70,
   "metadata": {
    "collapsed": false,
    "scrolled": true
   },
   "outputs": [
    {
     "data": {
      "text/html": [
       "DCCV_DELITTIPS(6):Delitti denunciati dalle forze di polizia all'autorità giudiziaria</br><table><tr><th>nr</th><th>name</th><th>nr. values</th><th>values (first 3 values)</th></tr><tr><td>0</td><td>Territorio</td><td>148</td><td>1:'Italia', 3:'Nord', 4:'Nord-ovest' ...</td></td></tr><tr><td>1</td><td>Tipo dato</td><td>3</td><td>1:'numero di delitti denunciati dalle forze di polizia all'autorità giudiziaria', 2:'delitti di cui si è scoperto l'autore nel corso dell'anno di riferimento (valori percentuali sul totale dei delitti dell'anno di riferimento)', 3:'delitti denunciati dalle forze di polizia all'autorità giudiziaria (valori per 100.000 abitanti)' ...</td></td></tr><tr><td>2</td><td>Tipo di delitto</td><td>56</td><td>1:'strage', 2:'omicidi volontari consumati', 3:'omicidi volontari consumati a scopo di furto o rapina' ...</td></td></tr><tr><td>3</td><td>Identità autore nota</td><td>2</td><td>2:'si', 3:'totale'</td></td></tr><tr><td>4</td><td>Periodo del commesso delitto</td><td>3</td><td>1:'prima dell'anno di riferimento', 2:'durante l'anno di riferimento', 3:'prima o durante l'anno di riferimento' ...</td></td></tr><tr><td>5</td><td>Anno</td><td>9</td><td>2129:'2012', 2034:'2007', 2148:'2013' ...</td></td></tr></table>"
      ],
      "text/plain": [
       "DCCV_DELITTIPS(6):Delitti denunciati dalle forze di polizia all'autorità giudiziaria"
      ]
     },
     "execution_count": 70,
     "metadata": {},
     "output_type": "execute_result"
    }
   ],
   "source": [
    "# DATASET delitti http://dati.istat.it/Index.aspx?DataSetCode=dccv_delittips\n",
    "istat_dataset_taxdisoccu = istat_area_lab.dataset('DCCV_DELITTIPS')\n",
    "istat_dataset_taxdisoccu"
   ]
  },
  {
   "cell_type": "code",
   "execution_count": 71,
   "metadata": {
    "collapsed": false
   },
   "outputs": [],
   "source": [
    "# Lista di tutte le Dimensioni\n",
    "# istat_dataset_taxdisoccu.dimensions()"
   ]
  },
  {
   "cell_type": "code",
   "execution_count": 72,
   "metadata": {
    "collapsed": false
   },
   "outputs": [],
   "source": [
    "# es. spec: Numero crimini registrati dalla polizia(Data Type) per Anno 2014 (Year) su tutto il Territorio Italia (Territory), Omicidi Intenzionali (Type of crime)\n",
    "spec = {\n",
    "    \"Tipo dato\":1,                      # 1 -> number of crimes reported by the police forces to the judicial authority (per 100.000 abitanti)\n",
    "    \"Anno\":2167,                        # 2167 -> 2014\n",
    "    #\"Territory\":,                      # 0 -> ALL\n",
    "    #\"Type of crime\":,                  # 0 -> ALL   \n",
    "    \"Identità autore nota\":3,           # 3 Total\n",
    "    \"Periodo del commesso delitto\":2    # 2 -> during the reference year\n",
    "}\n",
    "\n",
    "collection = istat_dataset_taxdisoccu.getvalues(spec)"
   ]
  },
  {
   "cell_type": "code",
   "execution_count": 73,
   "metadata": {
    "collapsed": false
   },
   "outputs": [],
   "source": [
    "# Lista dei dataset presenti nella collection\n",
    "# collection"
   ]
  },
  {
   "cell_type": "code",
   "execution_count": 74,
   "metadata": {
    "collapsed": false,
    "scrolled": false
   },
   "outputs": [],
   "source": [
    "# Leggo il primo e unico dataset\n",
    "ds = collection.dataset(0)\n",
    "# ds"
   ]
  },
  {
   "cell_type": "code",
   "execution_count": 75,
   "metadata": {
    "collapsed": false
   },
   "outputs": [],
   "source": [
    "# Trasformo il dataset in DataFrame\n",
    "df = ds.to_data_frame('Territorio')"
   ]
  },
  {
   "cell_type": "code",
   "execution_count": 76,
   "metadata": {
    "collapsed": false
   },
   "outputs": [],
   "source": [
    "# Tengo solo Omicidi Volontari, perchè sono gli stessi comunicati in EURO\n",
    "df_fil = df[\n",
    "            #(df['Tipo di delitto']=='strage') | \n",
    "            #(df['Tipo di delitto']=='infanticidi') |\n",
    "            # (df['Tipo di delitto']=='omicidi preterintenzionali') |\n",
    "            (df['Tipo di delitto'].str.contains('omicidi volontari'))\n",
    "            # (df['Tipo di delitto'].str.contains('omicidi colposi'))\n",
    "           ]\n",
    "df_fil = df_fil.drop('Tipo di delitto', 1)"
   ]
  },
  {
   "cell_type": "code",
   "execution_count": 77,
   "metadata": {
    "collapsed": true
   },
   "outputs": [],
   "source": [
    "# Reset index per group-by\n",
    "df_fil.reset_index(level=0, inplace=True)"
   ]
  },
  {
   "cell_type": "code",
   "execution_count": 78,
   "metadata": {
    "collapsed": false
   },
   "outputs": [],
   "source": [
    "# Raggruppo i valori per Territorio \n",
    "df_fil_agg = df_fil.groupby('Territorio',as_index=False)\n",
    "df_fil_agg = df_fil_agg.agg({'Value' : np.max})"
   ]
  },
  {
   "cell_type": "code",
   "execution_count": 79,
   "metadata": {
    "collapsed": false
   },
   "outputs": [],
   "source": [
    "# writer = pd.ExcelWriter('TerritorioItalia.xlsx')\n",
    "# df_fil_agg.to_excel(writer,'territorio')\n",
    "# writer.save()"
   ]
  },
  {
   "cell_type": "markdown",
   "metadata": {},
   "source": [
    "### 1. Dataset -  Numero Omicidi Italia 2014"
   ]
  },
  {
   "cell_type": "code",
   "execution_count": 80,
   "metadata": {
    "collapsed": false
   },
   "outputs": [],
   "source": [
    "# Directory dove salvare i file, da utilizzare in data_visualization\n",
    "dir_df = os.path.join(os.path.abspath(''),'stg')"
   ]
  },
  {
   "cell_type": "code",
   "execution_count": 81,
   "metadata": {
    "collapsed": false
   },
   "outputs": [],
   "source": [
    "df_ita=df_fil_agg[(df_fil_agg['Territorio']=='Italia')]\n",
    "# df_ita"
   ]
  },
  {
   "cell_type": "code",
   "execution_count": 82,
   "metadata": {
    "collapsed": true
   },
   "outputs": [],
   "source": [
    "df_ita_filename = r'df_ita.pkl'\n",
    "df_ita_fullpath = os.path.join(dir_df, df_ita_filename)\n",
    "df_ita.to_pickle(df_ita_fullpath)"
   ]
  },
  {
   "cell_type": "markdown",
   "metadata": {},
   "source": [
    "### 2. Dataset - Numero Omicidi Regioni 2014"
   ]
  },
  {
   "cell_type": "code",
   "execution_count": 83,
   "metadata": {
    "collapsed": false
   },
   "outputs": [],
   "source": [
    "df_reg=df_fil_agg[(df_fil_agg['Territorio']=='Abruzzo') |\n",
    "                  (df_fil_agg['Territorio']=='Basilicata') |\n",
    "                  (df_fil_agg['Territorio']=='Calabria') |\n",
    "                  (df_fil_agg['Territorio']=='Campania') |\n",
    "                  (df_fil_agg['Territorio']=='Emilia-Romagna') |\n",
    "                  (df_fil_agg['Territorio']=='Friuli-Venezia Giulia') |\n",
    "                  (df_fil_agg['Territorio']=='Lazio') |\n",
    "                  (df_fil_agg['Territorio']=='Liguria') |\n",
    "                  (df_fil_agg['Territorio']=='Lombardia') |\n",
    "                  (df_fil_agg['Territorio']=='Marche') |\n",
    "                  (df_fil_agg['Territorio']=='Molise') |\n",
    "                  (df_fil_agg['Territorio']=='Piemonte') |\n",
    "                  (df_fil_agg['Territorio']=='Puglia') |\n",
    "                  (df_fil_agg['Territorio']=='Sardegna') |\n",
    "                  (df_fil_agg['Territorio']=='Sicilia') |\n",
    "                  (df_fil_agg['Territorio']=='Toscana') |\n",
    "                  (df_fil_agg['Territorio']=='Umbria') |\n",
    "                  (df_fil_agg['Territorio']=='Veneto') |\n",
    "                  (df_fil_agg['Territorio'].str.contains('Trentino Alto Adige')) |\n",
    "                  (df_fil_agg['Territorio'].str.contains('''Valle d'Aosta'''))\n",
    "                 ]"
   ]
  },
  {
   "cell_type": "code",
   "execution_count": 84,
   "metadata": {
    "collapsed": true
   },
   "outputs": [],
   "source": [
    "df_reg_filename = r'df_reg.pkl'\n",
    "df_reg_fullpath = os.path.join(dir_df, df_reg_filename)\n",
    "df_reg.to_pickle(df_reg_fullpath)"
   ]
  },
  {
   "cell_type": "code",
   "execution_count": 85,
   "metadata": {
    "collapsed": true
   },
   "outputs": [],
   "source": [
    "# Directory dove salvare gli output per il Sito\n",
    "dir_out = os.path.join(os.path.abspath(''),'output')\n",
    "df_reg.to_csv(os.path.join(dir_out,r'regioni.csv'))"
   ]
  },
  {
   "cell_type": "markdown",
   "metadata": {},
   "source": [
    "### 3. Dataset - Numero Omicidi Città 2014"
   ]
  },
  {
   "cell_type": "code",
   "execution_count": 86,
   "metadata": {
    "collapsed": false
   },
   "outputs": [],
   "source": [
    "df_cit=df_fil_agg[(df_fil_agg['Territorio']!='Abruzzo') &\n",
    "                  (df_fil_agg['Territorio']!='Basilicata') &\n",
    "                  (df_fil_agg['Territorio']!='Calabria') &\n",
    "                  (df_fil_agg['Territorio']!='Campania') &\n",
    "                  (df_fil_agg['Territorio']!='Emilia-Romagna') &\n",
    "                  (df_fil_agg['Territorio']!='Friuli-Venezia Giulia') &\n",
    "                  (df_fil_agg['Territorio']!='Lazio') &\n",
    "                  (df_fil_agg['Territorio']!='Liguria') &\n",
    "                  (df_fil_agg['Territorio']!='Lombardia') &\n",
    "                  (df_fil_agg['Territorio']!='Marche') &\n",
    "                  (df_fil_agg['Territorio']!='Molise') &\n",
    "                  (df_fil_agg['Territorio']!='Piemonte') &\n",
    "                  (df_fil_agg['Territorio']!='Puglia') &\n",
    "                  (df_fil_agg['Territorio']!='Sardegna') &\n",
    "                  (df_fil_agg['Territorio']!='Sicilia') &\n",
    "                  (df_fil_agg['Territorio']!='Toscana') &\n",
    "                  (df_fil_agg['Territorio']!='Veneto') &\n",
    "                  (df_fil_agg['Territorio']!='Umbria') &\n",
    "                  (df_fil_agg['Territorio']!='Italia') &\n",
    "                  (df_fil_agg['Territorio']!='Nord-ovest') &\n",
    "                  (df_fil_agg['Territorio']!='Sud') &\n",
    "                  (df_fil_agg['Territorio']!='Centro') &\n",
    "                  (df_fil_agg['Territorio']!='Nord-est') &\n",
    "                  (df_fil_agg['Territorio']!='Isole')\n",
    "                 ]"
   ]
  },
  {
   "cell_type": "code",
   "execution_count": 87,
   "metadata": {
    "collapsed": false
   },
   "outputs": [],
   "source": [
    "# Top 10 Città pericolose\n",
    "df_cit_top=df_cit.sort_values(by='Value',ascending=False).head(10)\n",
    "df_cit_top_filename = r'df_cit_top.pkl'\n",
    "df_cit_top_fullpath = os.path.join(dir_df, df_cit_top_filename)\n",
    "df_cit_top.to_pickle(df_cit_top_fullpath)"
   ]
  },
  {
   "cell_type": "markdown",
   "metadata": {},
   "source": [
    "### 3. Dataset - Numero Omicidi Paesi Euro"
   ]
  },
  {
   "cell_type": "code",
   "execution_count": 88,
   "metadata": {
    "collapsed": false
   },
   "outputs": [
    {
     "data": {
      "text/plain": [
       "'{\"crim_off_cat\":{\"wsVersion\":\"V1_1\",\"code\":\"crim_off_cat\",\"language\":\"EN\",\"title\":\"Recorded offences by offence category - police data\",\"subTitle\":null,\"description\":null,\"lastUpdateDate\":1465941600000,\"status\":{\"value\":[null,null,null,null,null,null,null,null,null,null,null,null,null,null,null,null,null,null,null,null,null,null,null,null,null,null,null,null,null,null,null,null,null,null,null,null,null,null,null,null,null,null,null,null,null,null,null,null,null,null,null,null,null,null,null,null,null,null,null,null,null,null,null,null,null,null,null,null,null,null,null,null,null,null,null,null,null,null,null,null,null,null,null,null,null,null,null,null,null,null,null,null,null,null,null,null,null,null,null,null,null,null,null,null,null,null,null,null,null,null,null,null,null,null,null,null,null,null,null,null,null,null,null,null,null,null,null,null,null,null,null,null,\":\",null,null,null,null,null,null,null,null,null,null,null,null,null,null,null,null,null,null,null,null,null,null,null,null,null,null,null,null,null,null,null,null,null,null,null,null,null,null,null,null,null,null,null,null,null,null,null,null,null,null,null,null,null,null,null,null,null,null,null,null,null,null,\":\",null,null,null,null,null,null,null,null,null,null,null,null,null,null,null,null,null,null,null,null,null,null,null,null,null,null,null,null,null,null,null,null,null,null,null,null,null,null,null,null,null,null,null,null,null,null,null,null,null,null,null,null,null,null,null,null,\":\",null,null,null,null,\":\",\":\",null,null,null,null,null,null,\":\",null,null,null,null,null,null,null,null,null,null,null,null,null,null,null,null,null,null,null,null,null],\"category\":{\"label\":{\":\":\"not available\"}}},\"value\":[88,82,118,124,125,107,98,58,51,58,78,87,61,40,66,67,54,49,60,46,49,203,189,189,214,202,202,202,172,150,148,128,141,109,116,54,51,53,46,47,57,41,9,19,7,8,19,11,10,113,105,105,83,95,91,84,656,721,699,689,619,623,645,54,47,42,44,40,42,58,84,70,70,65,63,52,41,139,143,176,184,165,141,105,407,412,401,385,364,302,323,133,120,117,109,88,88,89,1021,819,796,856,784,777,792,71,49,62,49,51,46,36,147,139,133,142,113,138,129,89,88,89,66,79,83,80,0,1,2,3,1,1,null,615,590,529,552,530,504,475,1,0,1,0,0,0,1,286,240,199,189,181,172,155,7,5,8,4,3,1,4,99,108,70,69,97,69,77,22,10,13,19,15,9,19,35,35,39,27,28,20,25,6,4,4,3,10,6,6,150,154,144,143,145,125,null,34,29,29,111,27,46,29,460,493,436,449,377,298,283,124,130,124,114,122,144,92,470,397,404,335,378,336,298,128,136,114,114,104,131,113,82,93,91,81,68,87,87,11,13,11,17,14,12,17,94,84,89,96,75,78,58,null,2090,1766,1688,1806,null,null,638,595,633,528,547,526,null,95,84,95,91,73,63,60,24,29,23,23,21,20,17,113,73,106,62,90,41,39],\"dimension\":{\"id\":[\"iccs\",\"unit\",\"geo\",\"time\"],\"size\":[1,1,41,7],\"iccs\":{\"label\":\"iccs\",\"category\":{\"index\":{\"ICCS0101\":0},\"label\":{\"ICCS0101\":\"Intentional homicide\"}}},\"unit\":{\"label\":\"unit\",\"category\":{\"index\":{\"NR\":0},\"label\":{\"NR\":\"Number\"}}},\"geo\":{\"label\":\"geo\",\"category\":{\"index\":{\"AL\":0,\"AT\":1,\"BA\":2,\"BE\":3,\"BG\":4,\"CH\":5,\"CY\":6,\"CZ\":7,\"DE\":8,\"DK\":9,\"EE\":10,\"EL\":11,\"ES\":12,\"FI\":13,\"FR\":14,\"HR\":15,\"HU\":16,\"IE\":17,\"IS\":18,\"IT\":19,\"LI\":20,\"LT\":21,\"LU\":22,\"LV\":23,\"ME\":24,\"MK\":25,\"MT\":26,\"NL\":27,\"NO\":28,\"PL\":29,\"PT\":30,\"RO\":31,\"RS\":32,\"SE\":33,\"SI\":34,\"SK\":35,\"TR\":36,\"UKC-L\":37,\"UKM\":38,\"UKN\":39,\"XK\":40},\"label\":{\"AL\":\"Albania\",\"AT\":\"Austria\",\"BA\":\"Bosnia and Herzegovina\",\"BE\":\"Belgium\",\"BG\":\"Bulgaria\",\"CH\":\"Switzerland\",\"CY\":\"Cyprus\",\"CZ\":\"Czech Republic\",\"DE\":\"Germany (until 1990 former territory of the FRG)\",\"DK\":\"Denmark\",\"EE\":\"Estonia\",\"EL\":\"Greece\",\"ES\":\"Spain\",\"FI\":\"Finland\",\"FR\":\"France\",\"HR\":\"Croatia\",\"HU\":\"Hungary\",\"IE\":\"Ireland\",\"IS\":\"Iceland\",\"IT\":\"Italy\",\"LI\":\"Liechtenstein\",\"LT\":\"Lithuania\",\"LU\":\"Luxembourg\",\"LV\":\"Latvia\",\"ME\":\"Montenegro\",\"MK\":\"Former Yugoslav Republic of Macedonia, the\",\"MT\":\"Malta\",\"NL\":\"Netherlands\",\"NO\":\"Norway\",\"PL\":\"Poland\",\"PT\":\"Portugal\",\"RO\":\"Romania\",\"RS\":\"Serbia\",\"SE\":\"Sweden\",\"SI\":\"Slovenia\",\"SK\":\"Slovakia\",\"TR\":\"Turkey\",\"UKC-L\":\"England and Wales\",\"UKM\":\"Scotland\",\"UKN\":\"Northern Ireland (UK)\",\"XK\":\"Kosovo (under United Nations Security Council Resolution 1244/99)\"}}},\"time\":{\"label\":\"time\",\"category\":{\"index\":{\"2008\":0,\"2009\":1,\"2010\":2,\"2011\":3,\"2012\":4,\"2013\":5,\"2014\":6},\"label\":{\"2008\":\"2008\",\"2009\":\"2009\",\"2010\":\"2010\",\"2011\":\"2011\",\"2012\":\"2012\",\"2013\":\"2013\",\"2014\":\"2014\"}}}}}}'"
      ]
     },
     "execution_count": 88,
     "metadata": {},
     "output_type": "execute_result"
    }
   ],
   "source": [
    "# url costruito via Query Builder di Euro Stat\n",
    "url_1 = 'http://ec.europa.eu/eurostat/wdds/rest/data/v1.1/json/en/crim_off_cat?precision=1&iccs=ICCS0101&unit=NR'\n",
    "file_name_1 = r'eurostat-omicidi.json'\n",
    "file_path_1 = os.path.join(dir_df, file_name_1)\n",
    "jsonstat.download(url_1, file_path_1)"
   ]
  },
  {
   "cell_type": "code",
   "execution_count": 89,
   "metadata": {
    "collapsed": false
   },
   "outputs": [
    {
     "data": {
      "text/html": [
       "JsonstatCollection contains the following JsonStatDataSet:</br><table><tr><td>pos</td><td>dataset</td></tr><tr><td>0</td><td>'crim_off_cat'</td></tr></table>"
      ],
      "text/plain": [
       "JsonstatCollection contains the following JsonStatDataSet:\n",
       "+-----+----------------+\n",
       "| pos | dataset        |\n",
       "+-----+----------------+\n",
       "| 0   | 'crim_off_cat' |\n",
       "+-----+----------------+"
      ]
     },
     "execution_count": 89,
     "metadata": {},
     "output_type": "execute_result"
    }
   ],
   "source": [
    "collection_1 = jsonstat.from_file(file_path_1)\n",
    "collection_1"
   ]
  },
  {
   "cell_type": "code",
   "execution_count": 90,
   "metadata": {
    "collapsed": false
   },
   "outputs": [
    {
     "data": {
      "text/html": [
       "name:   'crim_off_cat'</br>title:  'Recorded offences by offence category - police data'</br>size: 287</br><table><tr><td>pos</td><td>id</td><td>label</td><td>size</td><td>role</td></tr><tr><td>0</td><td>iccs</td><td>iccs</td><td>1</td><td></td></tr><tr><td>1</td><td>unit</td><td>unit</td><td>1</td><td></td></tr><tr><td>2</td><td>geo</td><td>geo</td><td>41</td><td></td></tr><tr><td>3</td><td>time</td><td>time</td><td>7</td><td></td></tr></table>"
      ],
      "text/plain": [
       "name:   'crim_off_cat'\n",
       "title:  'Recorded offences by offence category - police data'\n",
       "size: 287\n",
       "+-----+------+-------+------+------+\n",
       "| pos | id   | label | size | role |\n",
       "+-----+------+-------+------+------+\n",
       "| 0   | iccs | iccs  | 1    |      |\n",
       "| 1   | unit | unit  | 1    |      |\n",
       "| 2   | geo  | geo   | 41   |      |\n",
       "| 3   | time | time  | 7    |      |\n",
       "+-----+------+-------+------+------+"
      ]
     },
     "execution_count": 90,
     "metadata": {},
     "output_type": "execute_result"
    }
   ],
   "source": [
    "crim_off_cat = collection_1.dataset('crim_off_cat')\n",
    "crim_off_cat"
   ]
  },
  {
   "cell_type": "code",
   "execution_count": 91,
   "metadata": {
    "collapsed": false
   },
   "outputs": [],
   "source": [
    "# Dimensioni Geo e Time\n",
    "df_eur = crim_off_cat.to_table(content='id',rtype=pd.DataFrame)"
   ]
  },
  {
   "cell_type": "code",
   "execution_count": 92,
   "metadata": {
    "collapsed": false
   },
   "outputs": [],
   "source": [
    "# Filtro solo 2014\n",
    "df_eur=df_eur[(df_eur['time']=='2014')]\n",
    "# df_eur.head(10)"
   ]
  },
  {
   "cell_type": "code",
   "execution_count": 93,
   "metadata": {
    "collapsed": true
   },
   "outputs": [],
   "source": [
    "#writer = pd.ExcelWriter('ZonaEuro.xlsx')\n",
    "#df_eur.to_excel(writer,'Euro')\n",
    "#writer.save()"
   ]
  },
  {
   "cell_type": "code",
   "execution_count": 94,
   "metadata": {
    "collapsed": true
   },
   "outputs": [],
   "source": [
    "df_eur = df_eur.drop('iccs', 1)\n",
    "df_eur = df_eur.drop('unit', 1)\n",
    "df_eur = df_eur.drop('time', 1)"
   ]
  },
  {
   "cell_type": "code",
   "execution_count": 95,
   "metadata": {
    "collapsed": false
   },
   "outputs": [],
   "source": [
    "df_eur_filename = r'df_eur.pkl'\n",
    "df_eur_fullpath = os.path.join(dir_df, df_eur_filename)\n",
    "df_eur.to_pickle(df_eur_fullpath)"
   ]
  },
  {
   "cell_type": "markdown",
   "metadata": {},
   "source": [
    "### 4. Dataset Omicidi volontari principali città Europee"
   ]
  },
  {
   "cell_type": "code",
   "execution_count": 96,
   "metadata": {
    "collapsed": false
   },
   "outputs": [
    {
     "data": {
      "text/plain": [
       "'{\"crim_hom_ocit\":{\"wsVersion\":\"V1_1\",\"code\":\"crim_hom_ocit\",\"language\":\"EN\",\"title\":\"Intentional homicide offences in largest cities\",\"subTitle\":null,\"description\":null,\"lastUpdateDate\":1464127200000,\"status\":{\"value\":[null,null,null,null,null,null,null,null,null,null,null,null,null,\":\",\":\",null,null,null,null,null,null,null,\":\",null,null,null,null,null,null,null,null,null,null,null,\":\",\":\",null,null,null,null,null,null,null,null,null,null,null,null,\":\",\":\",null,null,null,null,null,null,\":\",null,null,null,null,null,null,null,null,null,null,null,null,\":\",\":\",null,null,null,null,null,null,null,null,null,null,null,null,\":\",\":\",null,null,null,null,null,null,null,null,null,null,null,null,\":\",\":\",null,null,null,null,null,null,\":\",\":\",\":\",\":\",null,null,\":\",\":\",\":\",\":\",\":\",null,null,null,null,null,null,null,null,\":\",\":\",\":\",null,null,null,null,null,null,null,null,null,null,null,null,\":\",\":\",null,null,null,null,null,null,null,null,null,null,null,null,\":\",\":\",null,null,null,null,null,null,null,null,null,null,null,null,\":\",\":\",null,null,null,null,null,null,null,null,null,null,null,null,\":\",\":\",null,null,null,null,null,null,null,null,null,null,null,null,\":\",\":\",null,null,null,null,null,null,null,null,null,null,null,null,\":\",\":\",null,null,null,null,null,\":\",null,null,null,null,null,null,\":\",\":\",null,null,null,null,null,null,null,null,null,null,null,null,null,null,null,null,null,null,null,\":\",\":\",null,null,null,null,null,null,null,null,null,null,\":\",\":\",\":\",\":\",null,null,null,null,null,null,null,null,null,null,null,null,\":\",\":\",null,null,null,null,null,null,null,null,null,null,null,null,null,null,null,null,null,null,null,null,null,null,null,null,null,null,\":\",\":\",null,null,null,null,null,null,null,null,null,null,null,null,\":\",\":\",null,null,null,null,null,null,null,null,null,null,null,null,\":\",\":\",null,null,null,null,null,null,null,null,null,null,null,null,\":\",\":\",null,null,null,null,null,null,null,null,null,null,null,null,\":\",\":\",null,null,null,null,null,null,null,null,null,null,null,null,null,null,null,null,null,null,null,\":\",\":\",null,null,null,null,null,null,null,null,null,null,null,null,\":\",\":\",null,null,null,null,null,null,\":\",null,null,null,null,\":\",\":\",null,null,null,null,null,null,\":\",\":\",null,null,null,null,null,\":\",null,null,null,null,null,null,\":\",\":\",null,null,null,null,null,null,null,null,null,null,null,null,\":\",\":\",null,null,null,null,null,null,null,null,null,null,null,null,null],\"category\":{\"label\":{\":\":\"not available\"}}},\"value\":[22,21,25,26,25,31,23,17,20,18,25,25,24,null,null,20,18,25,25,24,11,10,null,6,9,13,8,8,44,33,31,25,32,34,null,null,33,31,27,35,35,39,27,26,20,20,24,18,null,null,26,20,20,24,18,25,null,4,10,1,2,0,2,3,3,4,2,5,4,null,null,3,4,2,5,4,2,18,23,16,13,16,13,null,null,23,16,13,16,13,10,42,61,37,35,43,43,null,null,67,41,43,50,53,47,null,null,null,null,20,20,null,null,null,null,null,20,20,16,69,70,82,86,66,null,null,null,70,82,86,66,54,40,39,32,28,21,28,22,null,null,32,28,21,28,22,18,16,7,12,14,12,7,null,null,7,12,14,12,6,10,47,36,44,42,46,42,null,null,36,44,42,46,42,43,15,5,10,11,10,6,null,null,5,10,11,10,6,5,26,36,32,32,28,31,null,null,36,32,32,25,28,28,0,1,1,3,1,0,null,null,1,1,3,1,0,null,28,29,9,27,24,29,null,null,29,9,27,24,29,35,0,0,0,0,0,0,1,58,30,26,22,19,25,null,null,30,26,22,19,25,41,3,5,0,3,null,null,null,null,5,0,3,0,0,1,30,37,23,18,26,26,null,null,37,23,18,26,26,30,7,8,7,7,7,1,5,13,12,12,11,8,8,8,0,0,1,0,0,0,null,null,0,1,0,0,0,0,12,7,5,19,8,8,null,null,7,5,19,8,8,7,25,33,22,29,25,18,null,null,33,22,29,25,18,20,10,5,6,6,11,11,null,null,5,6,6,11,11,7,17,20,22,17,21,13,null,null,20,22,17,21,13,21,35,23,20,30,19,36,43,0,1,3,4,2,0,null,null,1,3,4,2,0,4,10,9,8,14,12,9,null,null,9,8,14,12,9,11,null,348,242,215,262,null,null,153,118,133,101,107,108,null,null,118,133,101,107,108,null,23,20,30,12,21,17,null,null,20,30,12,21,19,17,4,7,9,3,4,6,null,null,7,9,3,4,6,6,7,8,6,6,1,3,6],\"dimension\":{\"id\":[\"unit\",\"cities\",\"time\"],\"size\":[1,65,7],\"unit\":{\"label\":\"unit\",\"category\":{\"index\":{\"NR\":0},\"label\":{\"NR\":\"Number\"}}},\"cities\":{\"label\":\"cities\",\"category\":{\"index\":{\"AL001C1\":0,\"AT001C\":1,\"AT001C1\":2,\"BA001C1\":3,\"BE001C\":4,\"BE001C1\":5,\"BG001C\":6,\"BG001C1\":7,\"CH001C1\":8,\"CY001C\":9,\"CY001C1\":10,\"CZ001C\":11,\"CZ001C1\":12,\"DE001C\":13,\"DE001C1\":14,\"EE001C\":15,\"EE001C1\":16,\"EL001C\":17,\"EL001C1\":18,\"ES001C\":19,\"ES001C1\":20,\"FI001C\":21,\"FI001C2\":22,\"FR001C\":23,\"FR001C1\":24,\"HR001C\":25,\"HR001C1\":26,\"HU001C\":27,\"HU001C1\":28,\"IS001C\":29,\"IS001C1\":30,\"IT001C\":31,\"IT001C1\":32,\"LI002C1\":33,\"LT001C\":34,\"LT001C1\":35,\"LU001C\":36,\"LU001C1\":37,\"LV001C\":38,\"LV001C1\":39,\"ME001C\":40,\"MK001C\":41,\"MT001C\":42,\"MT001C1\":43,\"NO001C\":44,\"NO001C1\":45,\"PL001C\":46,\"PL001C1\":47,\"PT001C\":48,\"PT001C1\":49,\"RO001C\":50,\"RO001C1\":51,\"RS001C\":52,\"SI001C\":53,\"SI001C1\":54,\"SK001C\":55,\"SK001C1\":56,\"TR012C1\":57,\"UK001C\":58,\"UK001K2\":59,\"UK004C\":60,\"UK004C1\":61,\"UK012C\":62,\"UK012C1\":63,\"XK001C\":64},\"label\":{\"AL001C1\":\"Tiranë\",\"AT001C\":\"Wien\",\"AT001C1\":\"Wien\",\"BA001C1\":\"Sarajevo\",\"BE001C\":\"Bruxelles / Brussel\",\"BE001C1\":\"Bruxelles / Brussel\",\"BG001C\":\"Sofia\",\"BG001C1\":\"Sofia\",\"CH001C1\":\"Zürich\",\"CY001C\":\"Lefkosia\",\"CY001C1\":\"Lefkosia\",\"CZ001C\":\"Praha\",\"CZ001C1\":\"Praha\",\"DE001C\":\"Berlin\",\"DE001C1\":\"Berlin\",\"EE001C\":\"Tallinn\",\"EE001C1\":\"Tallinn\",\"EL001C\":\"Athina\",\"EL001C1\":\"Athina\",\"ES001C\":\"Madrid\",\"ES001C1\":\"Madrid\",\"FI001C\":\"Helsinki\",\"FI001C2\":\"Helsinki / Helsingfors\",\"FR001C\":\"Paris\",\"FR001C1\":\"Paris\",\"HR001C\":\"Zagreb\",\"HR001C1\":\"Zagreb\",\"HU001C\":\"Budapest\",\"HU001C1\":\"Budapest\",\"IS001C\":\"Reykjavik\",\"IS001C1\":\"Reykjavík\",\"IT001C\":\"Roma\",\"IT001C1\":\"Roma\",\"LI002C1\":\"Schaan\",\"LT001C\":\"Vilnius\",\"LT001C1\":\"Vilnius\",\"LU001C\":\"Luxembourg (city)\",\"LU001C1\":\"Luxembourg\",\"LV001C\":\"Riga\",\"LV001C1\":\"Riga\",\"ME001C\":\"Podgorica\",\"MK001C\":\"Skopje\",\"MT001C\":\"Valletta\",\"MT001C1\":\"Valletta\",\"NO001C\":\"Oslo\",\"NO001C1\":\"Oslo\",\"PL001C\":\"Warszawa\",\"PL001C1\":\"Warszawa\",\"PT001C\":\"Lisboa\",\"PT001C1\":\"Lisboa\",\"RO001C\":\"Bucuresti\",\"RO001C1\":\"Bucuresti\",\"RS001C\":\"Beograd\",\"SI001C\":\"Ljubljana\",\"SI001C1\":\"Ljubljana\",\"SK001C\":\"Bratislava\",\"SK001C1\":\"Bratislava\",\"TR012C1\":\"Istanbul\",\"UK001C\":\"London\",\"UK001K2\":\"London (greater city)\",\"UK004C\":\"Glasgow\",\"UK004C1\":\"Glasgow\",\"UK012C\":\"Belfast\",\"UK012C1\":\"Belfast\",\"XK001C\":\"Pristinë\"}}},\"time\":{\"label\":\"time\",\"category\":{\"index\":{\"2008\":0,\"2009\":1,\"2010\":2,\"2011\":3,\"2012\":4,\"2013\":5,\"2014\":6},\"label\":{\"2008\":\"2008\",\"2009\":\"2009\",\"2010\":\"2010\",\"2011\":\"2011\",\"2012\":\"2012\",\"2013\":\"2013\",\"2014\":\"2014\"}}}}}}'"
      ]
     },
     "execution_count": 96,
     "metadata": {},
     "output_type": "execute_result"
    }
   ],
   "source": [
    "# url costruito via Query Builder di Euro Stat\n",
    "url_2 = 'http://ec.europa.eu/eurostat/wdds/rest/data/v1.1/json/en/crim_hom_ocit?unit=NR&precision=1'\n",
    "file_name_2 = r'eurostat-omicidi_citta.json'\n",
    "file_path_2 = os.path.join(dir_df, file_name_2)\n",
    "jsonstat.download(url_2, file_path_2)"
   ]
  },
  {
   "cell_type": "code",
   "execution_count": 97,
   "metadata": {
    "collapsed": false
   },
   "outputs": [
    {
     "data": {
      "text/html": [
       "JsonstatCollection contains the following JsonStatDataSet:</br><table><tr><td>pos</td><td>dataset</td></tr><tr><td>0</td><td>'crim_hom_ocit'</td></tr></table>"
      ],
      "text/plain": [
       "JsonstatCollection contains the following JsonStatDataSet:\n",
       "+-----+-----------------+\n",
       "| pos | dataset         |\n",
       "+-----+-----------------+\n",
       "| 0   | 'crim_hom_ocit' |\n",
       "+-----+-----------------+"
      ]
     },
     "execution_count": 97,
     "metadata": {},
     "output_type": "execute_result"
    }
   ],
   "source": [
    "collection_2 = jsonstat.from_file(file_path_2)\n",
    "collection_2"
   ]
  },
  {
   "cell_type": "code",
   "execution_count": 98,
   "metadata": {
    "collapsed": false
   },
   "outputs": [
    {
     "data": {
      "text/html": [
       "name:   'crim_hom_ocit'</br>title:  'Intentional homicide offences in largest cities'</br>size: 455</br><table><tr><td>pos</td><td>id</td><td>label</td><td>size</td><td>role</td></tr><tr><td>0</td><td>unit</td><td>unit</td><td>1</td><td></td></tr><tr><td>1</td><td>cities</td><td>cities</td><td>65</td><td></td></tr><tr><td>2</td><td>time</td><td>time</td><td>7</td><td></td></tr></table>"
      ],
      "text/plain": [
       "name:   'crim_hom_ocit'\n",
       "title:  'Intentional homicide offences in largest cities'\n",
       "size: 455\n",
       "+-----+--------+--------+------+------+\n",
       "| pos | id     | label  | size | role |\n",
       "+-----+--------+--------+------+------+\n",
       "| 0   | unit   | unit   | 1    |      |\n",
       "| 1   | cities | cities | 65   |      |\n",
       "| 2   | time   | time   | 7    |      |\n",
       "+-----+--------+--------+------+------+"
      ]
     },
     "execution_count": 98,
     "metadata": {},
     "output_type": "execute_result"
    }
   ],
   "source": [
    "crim_hom_ocit = collection_2.dataset('crim_hom_ocit')\n",
    "crim_hom_ocit"
   ]
  },
  {
   "cell_type": "code",
   "execution_count": 99,
   "metadata": {
    "collapsed": true
   },
   "outputs": [],
   "source": [
    "# Dimensioni Geo e Time\n",
    "df_eur_cit = crim_hom_ocit.to_table(content='id',rtype=pd.DataFrame)"
   ]
  },
  {
   "cell_type": "code",
   "execution_count": 100,
   "metadata": {
    "collapsed": false
   },
   "outputs": [],
   "source": [
    "# Filtro solo 2014\n",
    "df_eur_cit=df_eur_cit[(df_eur_cit['time']=='2014')]"
   ]
  },
  {
   "cell_type": "code",
   "execution_count": 101,
   "metadata": {
    "collapsed": true
   },
   "outputs": [],
   "source": [
    "df_eur_cit = df_eur_cit.drop('time', 1)\n",
    "df_eur_cit = df_eur_cit.drop('unit', 1)"
   ]
  },
  {
   "cell_type": "code",
   "execution_count": 102,
   "metadata": {
    "collapsed": false
   },
   "outputs": [],
   "source": [
    "# Top 10 Città pericolose\n",
    "df_eur_cit_top10per=df_eur_cit.sort_values(by='Value',ascending=False).head(10)\n",
    "# df_eur_cit_top10per"
   ]
  },
  {
   "cell_type": "code",
   "execution_count": 103,
   "metadata": {
    "collapsed": false
   },
   "outputs": [],
   "source": [
    "df_name = pd.read_excel(os.path.join(dir_df, 'NUTS3.xls'), sheetname='Local information')"
   ]
  },
  {
   "cell_type": "code",
   "execution_count": 104,
   "metadata": {
    "collapsed": false
   },
   "outputs": [],
   "source": [
    "# df_name.head(5)"
   ]
  },
  {
   "cell_type": "code",
   "execution_count": 105,
   "metadata": {
    "collapsed": false
   },
   "outputs": [],
   "source": [
    "df_name = df_name.drop('NUTS0', 1)\n",
    "df_name = df_name.drop('NUTS 3 ID (2010)', 1)\n",
    "df_name = df_name.drop('NUTS 3 2010 code and name', 1)\n",
    "df_name = df_name.drop('UA city in NUTS 3', 1)\n",
    "df_name = df_name.drop('Functional Urban Zone code', 1)\n",
    "df_name = df_name.drop('Port in NUTS 3', 1)\n",
    "df_name = df_name.drop('Port ID', 1)\n",
    "df_name = df_name.drop('Name of the port', 1)\n",
    "df_name = df_name.drop('Remark', 1)"
   ]
  },
  {
   "cell_type": "code",
   "execution_count": 106,
   "metadata": {
    "collapsed": false
   },
   "outputs": [],
   "source": [
    "# df_name.head(5)"
   ]
  },
  {
   "cell_type": "code",
   "execution_count": 107,
   "metadata": {
    "collapsed": false
   },
   "outputs": [],
   "source": [
    "df = pd.merge(df_eur_cit_top10per, df_name, how='left',left_on='cities', right_on='City code')\n",
    "df = df[pd.notnull(df['City name'])]\n",
    "#df"
   ]
  },
  {
   "cell_type": "code",
   "execution_count": 108,
   "metadata": {
    "collapsed": true
   },
   "outputs": [],
   "source": [
    "df_eur_cit_filename = r'df_eur_cit.pkl'\n",
    "df_eur_cit_fullpath = os.path.join(dir_df, df_eur_cit_filename)\n",
    "df.to_pickle(df_eur_cit_fullpath)"
   ]
  }
 ],
 "metadata": {
  "anaconda-cloud": {},
  "kernelspec": {
   "display_name": "Python [conda env:opendata]",
   "language": "python",
   "name": "conda-env-opendata-py"
  },
  "language_info": {
   "codemirror_mode": {
    "name": "ipython",
    "version": 3
   },
   "file_extension": ".py",
   "mimetype": "text/x-python",
   "name": "python",
   "nbconvert_exporter": "python",
   "pygments_lexer": "ipython3",
   "version": "3.5.2"
  }
 },
 "nbformat": 4,
 "nbformat_minor": 1
}
