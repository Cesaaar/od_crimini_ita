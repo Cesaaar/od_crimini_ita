{
 "cells": [
  {
   "cell_type": "markdown",
   "metadata": {},
   "source": [
    "# Criminalità Italia - Data Analysis\n",
    "\n",
    "## KPI\n",
    "\n",
    "1. Numero totale degli omicidi in Italia ultimo anno disponibile\n",
    "2. Distribuzione omicidi per Regione\n",
    "\n",
    "\n",
    "Next Step\n",
    "1. Distribuzione omicidi per Città\n",
    "2. Distribuzione omicidi totali per Anno\n",
    "3. Recupero altri indicatori su (Italia, Regione e Città)\n",
    "    - Es. N° Abitanti \n",
    "4. Confronto Top Città Europa (su num abitanti)\n",
    "5. Confronto Top Città Mondo (su num abitanti)\n",
    "\n",
    "## Open Data\n",
    "1. Istat\n",
    "    - http://dati.istat.it/Index.aspx\n",
    "   \n",
    "   \n",
    "## Librerie\n",
    "1. Jsonstat\n",
    "    - http://jsonstatpy.readthedocs.io/en/latest/notebooks/istat_house_price_index.html\n"
   ]
  },
  {
   "cell_type": "code",
   "execution_count": 2,
   "metadata": {
    "collapsed": true
   },
   "outputs": [],
   "source": [
    "# Importo librerie per analisi dati (Pandas) e dati Isata\n",
    "import os\n",
    "import pandas as pd\n",
    "import numpy as np\n",
    "import istat"
   ]
  },
  {
   "cell_type": "code",
   "execution_count": 3,
   "metadata": {
    "collapsed": false
   },
   "outputs": [
    {
     "name": "stdout",
     "output_type": "stream",
     "text": [
      "cache_dir is '/home/acesarini/opendata/tmp/istat_cached'\n"
     ]
    }
   ],
   "source": [
    "# Imposto cache dir per velocizzare analisi in locale\n",
    "cache_dir = os.path.abspath(os.path.join(\"..\", \"tmp\", \"istat_cached\"))\n",
    "istat.cache_dir(cache_dir)\n",
    "istat.lang(0)  # lingua italiano\n",
    "print(\"cache_dir is '{}'\".format(istat.cache_dir()))"
   ]
  },
  {
   "cell_type": "code",
   "execution_count": 4,
   "metadata": {
    "collapsed": false
   },
   "outputs": [],
   "source": [
    "# Lista delle aree di analisi disponibili\n",
    "# istat.areas()"
   ]
  },
  {
   "cell_type": "code",
   "execution_count": 5,
   "metadata": {
    "collapsed": false
   },
   "outputs": [],
   "source": [
    "# Seleziono AREA Giustizia e Sicurezza\n",
    "istat_area_lab = istat.area('JUS')\n",
    "# istat_area_lab"
   ]
  },
  {
   "cell_type": "code",
   "execution_count": 6,
   "metadata": {
    "collapsed": false,
    "scrolled": true
   },
   "outputs": [
    {
     "data": {
      "text/html": [
       "DCCV_DELITTIPS(6):Delitti denunciati dalle forze di polizia all'autorità giudiziaria</br><table><tr><th>nr</th><th>name</th><th>nr. values</th><th>values (first 3 values)</th></tr><tr><td>0</td><td>Territorio</td><td>148</td><td>1:'Italia', 3:'Nord', 4:'Nord-ovest' ...</td></td></tr><tr><td>1</td><td>Tipo dato</td><td>3</td><td>1:'numero di delitti denunciati dalle forze di polizia all'autorità giudiziaria', 2:'delitti di cui si è scoperto l'autore nel corso dell'anno di riferimento (valori percentuali sul totale dei delitti dell'anno di riferimento)', 3:'delitti denunciati dalle forze di polizia all'autorità giudiziaria (valori per 100.000 abitanti)' ...</td></td></tr><tr><td>2</td><td>Tipo di delitto</td><td>56</td><td>1:'strage', 2:'omicidi volontari consumati', 3:'omicidi volontari consumati a scopo di furto o rapina' ...</td></td></tr><tr><td>3</td><td>Identità autore nota</td><td>2</td><td>2:'si', 3:'totale'</td></td></tr><tr><td>4</td><td>Periodo del commesso delitto</td><td>3</td><td>1:'prima dell'anno di riferimento', 2:'durante l'anno di riferimento', 3:'prima o durante l'anno di riferimento' ...</td></td></tr><tr><td>5</td><td>Anno</td><td>9</td><td>2129:'2012', 2034:'2007', 2148:'2013' ...</td></td></tr></table>"
      ],
      "text/plain": [
       "DCCV_DELITTIPS(6):Delitti denunciati dalle forze di polizia all'autorità giudiziaria"
      ]
     },
     "execution_count": 6,
     "metadata": {},
     "output_type": "execute_result"
    }
   ],
   "source": [
    "# DATASET delitti http://dati.istat.it/Index.aspx?DataSetCode=dccv_delittips\n",
    "istat_dataset_taxdisoccu = istat_area_lab.dataset('DCCV_DELITTIPS')\n",
    "istat_dataset_taxdisoccu"
   ]
  },
  {
   "cell_type": "code",
   "execution_count": 7,
   "metadata": {
    "collapsed": false
   },
   "outputs": [],
   "source": [
    "# Lista di tutte le Dimensioni\n",
    "# istat_dataset_taxdisoccu.dimensions()"
   ]
  },
  {
   "cell_type": "code",
   "execution_count": 8,
   "metadata": {
    "collapsed": false
   },
   "outputs": [],
   "source": [
    "# es. spec: Numero crimini registrati dalla polizia(Data Type) per Anno 2014 (Year) su tutto il Territorio Italia (Territory), Omicidi Intenzionali (Type of crime)\n",
    "spec = {\n",
    "    \"Tipo dato\":1,                      # 1 -> number of crimes reported by the police forces to the judicial authority\n",
    "    \"Anno\":2167,                        # 2167 -> 2014\n",
    "    #\"Territory\":,                      # 0 -> ALL\n",
    "    #\"Type of crime\":,                  # 0 -> ALL   \n",
    "    \"Identità autore nota\":3,           # 3 -> Total\n",
    "    \"Periodo del commesso delitto\":2    # 2 -> during the reference year\n",
    "}\n",
    "\n",
    "collection = istat_dataset_taxdisoccu.getvalues(spec)"
   ]
  },
  {
   "cell_type": "code",
   "execution_count": 9,
   "metadata": {
    "collapsed": false
   },
   "outputs": [],
   "source": [
    "# Lista dei dataset presenti nella collection\n",
    "# collection"
   ]
  },
  {
   "cell_type": "code",
   "execution_count": 10,
   "metadata": {
    "collapsed": false,
    "scrolled": false
   },
   "outputs": [
    {
     "data": {
      "text/html": [
       "name:   'IDITTER107*IDREATI_PS'</br>label:  'Delitti denunciati dalle forze di polizia all'autorità giudiziaria per Territorio e Tipo di delitto - numero di delitti denunciati dalle forze di polizia all'autorità giudiziaria - durante l'anno di riferimento - 2014'</br>size: 7448</br><table><tr><td>pos</td><td>id</td><td>label</td><td>size</td><td>role</td></tr><tr><td>0</td><td>IDITTER107</td><td>Territorio</td><td>133</td><td></td></tr><tr><td>1</td><td>IDREATI_PS</td><td>Tipo di delitto</td><td>56</td><td></td></tr></table>"
      ],
      "text/plain": [
       "name:   'IDITTER107*IDREATI_PS'\n",
       "label:  'Delitti denunciati dalle forze di polizia all'autorità giudiziaria per Territorio e Tipo di delitto - numero di delitti denunciati dalle forze di polizia all'autorità giudiziaria - durante l'anno di riferimento - 2014'\n",
       "size: 7448\n",
       "+-----+------------+-----------------+------+------+\n",
       "| pos | id         | label           | size | role |\n",
       "+-----+------------+-----------------+------+------+\n",
       "| 0   | IDITTER107 | Territorio      | 133  |      |\n",
       "| 1   | IDREATI_PS | Tipo di delitto | 56   |      |\n",
       "+-----+------------+-----------------+------+------+"
      ]
     },
     "execution_count": 10,
     "metadata": {},
     "output_type": "execute_result"
    }
   ],
   "source": [
    "# Leggo il primo e unico dataset\n",
    "ds = collection.dataset(0)\n",
    "ds"
   ]
  },
  {
   "cell_type": "code",
   "execution_count": 11,
   "metadata": {
    "collapsed": false
   },
   "outputs": [],
   "source": [
    "# Trasformo il dataset in DataFrame\n",
    "df = ds.to_data_frame('Territorio')"
   ]
  },
  {
   "cell_type": "code",
   "execution_count": 12,
   "metadata": {
    "collapsed": false
   },
   "outputs": [],
   "source": [
    "# Tengo solo Omicidi (verifica se possibile filtrare le dimensioni su jsonstat)\n",
    "df_fil = df[(df['Tipo di delitto']=='strage') | \n",
    "            (df['Tipo di delitto']=='infanticidi') |\n",
    "            (df['Tipo di delitto']=='omicidi preterintenzionali') |\n",
    "            (df['Tipo di delitto'].str.contains('omicidi volontari')) |\n",
    "            (df['Tipo di delitto'].str.contains('omicidi colposi'))\n",
    "           ]\n",
    "df_fil = df_fil.drop('Tipo di delitto', 1)"
   ]
  },
  {
   "cell_type": "code",
   "execution_count": 13,
   "metadata": {
    "collapsed": false
   },
   "outputs": [],
   "source": [
    "# df_fil.head()"
   ]
  },
  {
   "cell_type": "code",
   "execution_count": 14,
   "metadata": {
    "collapsed": false
   },
   "outputs": [],
   "source": [
    "# df_fil.info()"
   ]
  },
  {
   "cell_type": "code",
   "execution_count": 15,
   "metadata": {
    "collapsed": true
   },
   "outputs": [],
   "source": [
    "# Reset index per group-by\n",
    "df_fil.reset_index(level=0, inplace=True)"
   ]
  },
  {
   "cell_type": "code",
   "execution_count": 16,
   "metadata": {
    "collapsed": false
   },
   "outputs": [],
   "source": [
    "# Raggruppo i valori per Territorio \n",
    "df_fil_agg = df_fil.groupby('Territorio',as_index=False)\n",
    "df_fil_agg = df_fil_agg.agg({'Value' : np.max})"
   ]
  },
  {
   "cell_type": "code",
   "execution_count": 17,
   "metadata": {
    "collapsed": false
   },
   "outputs": [],
   "source": [
    "# writer = pd.ExcelWriter('output.xlsx')\n",
    "# df_fil_agg.to_excel(writer,'Sheet1')\n",
    "# writer.save()"
   ]
  },
  {
   "cell_type": "markdown",
   "metadata": {},
   "source": [
    "### 1. Dataset -  Numero Omicidi Italia 2014"
   ]
  },
  {
   "cell_type": "code",
   "execution_count": 18,
   "metadata": {
    "collapsed": false
   },
   "outputs": [],
   "source": [
    "# Directory dove salvare i file, da utilizzare in data_visualization\n",
    "dir_df = os.path.join(os.path.abspath(''),'df')"
   ]
  },
  {
   "cell_type": "code",
   "execution_count": 20,
   "metadata": {
    "collapsed": false
   },
   "outputs": [
    {
     "data": {
      "text/html": [
       "<div>\n",
       "<table border=\"1\" class=\"dataframe\">\n",
       "  <thead>\n",
       "    <tr style=\"text-align: right;\">\n",
       "      <th></th>\n",
       "      <th>Territorio</th>\n",
       "      <th>Value</th>\n",
       "    </tr>\n",
       "  </thead>\n",
       "  <tbody>\n",
       "    <tr>\n",
       "      <th>49</th>\n",
       "      <td>Italia</td>\n",
       "      <td>1633.0</td>\n",
       "    </tr>\n",
       "  </tbody>\n",
       "</table>\n",
       "</div>"
      ],
      "text/plain": [
       "   Territorio   Value\n",
       "49     Italia  1633.0"
      ]
     },
     "execution_count": 20,
     "metadata": {},
     "output_type": "execute_result"
    }
   ],
   "source": [
    "df_ita=df_fil_agg[(df_fil_agg['Territorio']=='Italia')]\n",
    "# df_ita"
   ]
  },
  {
   "cell_type": "code",
   "execution_count": 21,
   "metadata": {
    "collapsed": true
   },
   "outputs": [],
   "source": [
    "df_ita_filename = r'df_ita.pkl'\n",
    "df_ita_fullpath = os.path.join(dir_df, df_ita_filename)\n",
    "df_ita.to_pickle(df_ita_fullpath)"
   ]
  },
  {
   "cell_type": "markdown",
   "metadata": {},
   "source": [
    "### 2. Dataset - Numero Omicidi Regioni 2014"
   ]
  },
  {
   "cell_type": "code",
   "execution_count": 28,
   "metadata": {
    "collapsed": false
   },
   "outputs": [
    {
     "data": {
      "text/plain": [
       "Territorio    AbruzzoBasilicataCalabriaCampaniaEmilia-Romagn...\n",
       "Value                                                      1633\n",
       "dtype: object"
      ]
     },
     "execution_count": 28,
     "metadata": {},
     "output_type": "execute_result"
    }
   ],
   "source": [
    "df_reg=df_fil_agg[(df_fil_agg['Territorio']=='Abruzzo') |\n",
    "                  (df_fil_agg['Territorio']=='Basilicata') |\n",
    "                  (df_fil_agg['Territorio']=='Calabria') |\n",
    "                  (df_fil_agg['Territorio']=='Campania') |\n",
    "                  (df_fil_agg['Territorio']=='Emilia-Romagna') |\n",
    "                  (df_fil_agg['Territorio']=='Friuli-Venezia Giulia') |\n",
    "                  (df_fil_agg['Territorio']=='Lazio') |\n",
    "                  (df_fil_agg['Territorio']=='Liguria') |\n",
    "                  (df_fil_agg['Territorio']=='Lombardia') |\n",
    "                  (df_fil_agg['Territorio']=='Marche') |\n",
    "                  (df_fil_agg['Territorio']=='Molise') |\n",
    "                  (df_fil_agg['Territorio']=='Piemonte') |\n",
    "                  (df_fil_agg['Territorio']=='Puglia') |\n",
    "                  (df_fil_agg['Territorio']=='Sardegna') |\n",
    "                  (df_fil_agg['Territorio']=='Sicilia') |\n",
    "                  (df_fil_agg['Territorio']=='Toscana') |\n",
    "                  (df_fil_agg['Territorio']=='Umbria') |\n",
    "                  (df_fil_agg['Territorio']=='Veneto') |\n",
    "                  (df_fil_agg['Territorio'].str.contains('Trentino Alto Adige')) |\n",
    "                  (df_fil_agg['Territorio'].str.contains('''Valle d'Aosta'''))\n",
    "                 ]\n",
    "# df_reg.sum()"
   ]
  },
  {
   "cell_type": "code",
   "execution_count": 29,
   "metadata": {
    "collapsed": true
   },
   "outputs": [],
   "source": [
    "df_reg_filename = r'df_reg.pkl'\n",
    "df_reg_fullpath = os.path.join(dir_df, df_reg_filename)\n",
    "df_reg.to_pickle(df_reg_fullpath)"
   ]
  },
  {
   "cell_type": "markdown",
   "metadata": {},
   "source": [
    "### 3. Dataset - Numero Omicidi Città 2014"
   ]
  },
  {
   "cell_type": "markdown",
   "metadata": {},
   "source": [
    "### 4. Dataset - Serie storica omicidi Italia 2012-2014"
   ]
  }
 ],
 "metadata": {
  "anaconda-cloud": {},
  "kernelspec": {
   "display_name": "Python [conda env:opendata]",
   "language": "python",
   "name": "conda-env-opendata-py"
  },
  "language_info": {
   "codemirror_mode": {
    "name": "ipython",
    "version": 3
   },
   "file_extension": ".py",
   "mimetype": "text/x-python",
   "name": "python",
   "nbconvert_exporter": "python",
   "pygments_lexer": "ipython3",
   "version": "3.5.2"
  }
 },
 "nbformat": 4,
 "nbformat_minor": 1
}
